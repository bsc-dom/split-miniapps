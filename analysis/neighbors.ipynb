{
 "cells": [
  {
   "cell_type": "code",
   "execution_count": null,
   "id": "flexible-tennis",
   "metadata": {},
   "outputs": [],
   "source": [
    "import matplotlib.pyplot as plt\n",
    "import numpy as np\n",
    "import pandas as pd\n",
    "import seaborn as sns\n",
    "\n",
    "pd.set_option('display.max_rows', None)\n",
    "pd.set_option('display.max_columns', None)\n",
    "pd.set_option('display.width', None)\n",
    "pd.set_option('display.max_colwidth', None)\n",
    "\n",
    "from tad4bj import DataStorage\n",
    "\n",
    "EXPERIMENT_SIZE_FIELDS = [\n",
    "    \"n_blocks_fit\",\n",
    "    \"n_blocks_nn\",\n",
    "    \"points_per_block\",\n",
    "]\n",
    "\n",
    "PLATFORM_FIELDS = [\n",
    "    \"nodes\",\n",
    "    \"cpus_per_node\",\n",
    "    \"backends_per_node\",\n",
    "]"
   ]
  },
  {
   "cell_type": "code",
   "execution_count": null,
   "id": "breeding-advertiser",
   "metadata": {},
   "outputs": [],
   "source": [
    "def smart_mean(row):\n",
    "    it_times = row[\"kneighbors_time\"]\n",
    "    \n",
    "    if it_times:\n",
    "        count = len(it_times)\n",
    "        if count > 0:\n",
    "            row[\"min_time\"] = np.min(it_times)\n",
    "            row[\"mean_time\"] = np.mean(it_times)\n",
    "            row[\"std_time\"] = np.std(it_times)\n",
    "            row[\"count\"] = len(it_times)\n",
    "\n",
    "    if not row['dataclay']:\n",
    "        row['mode'] = \"COMPSs\"\n",
    "    elif row['use_split']:\n",
    "        row['mode'] = \"dC+split\"\n",
    "    else:\n",
    "        row['mode'] = \"dC\"\n",
    "\n",
    "    return row\n",
    "\n",
    "db = DataStorage(\"nn-split\")\n",
    "df = db.to_dataframe().apply(smart_mean, axis=1).query(\"start_ts > '2022-06-01'\")"
   ]
  },
  {
   "cell_type": "code",
   "execution_count": null,
   "id": "permanent-mechanism",
   "metadata": {},
   "outputs": [],
   "source": [
    "edf = df.explode(\"kneighbors_time\").sort_values('mode')\n",
    "edf['kneighbors_time'] = edf['kneighbors_time'].astype(float)"
   ]
  },
  {
   "cell_type": "code",
   "execution_count": null,
   "id": "noble-warehouse",
   "metadata": {},
   "outputs": [],
   "source": [
    "data = edf.query('(nodes - 1) * 24 == n_blocks_fit')\n",
    "sns.barplot(data=data, x=\"nodes\", hue=\"mode\", y=\"kneighbors_time\")\n",
    "plt.title(\"24 blocks per node\")\n",
    "plt.show()\n",
    "\n",
    "data = edf.query('(nodes - 1) * 48 == n_blocks_fit')\n",
    "sns.barplot(data=data, x=\"nodes\", hue=\"mode\", y=\"kneighbors_time\")\n",
    "plt.title(\"48 blocks per node\")\n",
    "plt.show()\n"
   ]
  },
  {
   "cell_type": "code",
   "execution_count": null,
   "id": "b9c4b11d",
   "metadata": {},
   "outputs": [],
   "source": []
  }
 ],
 "metadata": {
  "language_info": {
   "name": "python",
   "pygments_lexer": "ipython3"
  }
 },
 "nbformat": 4,
 "nbformat_minor": 5
}
