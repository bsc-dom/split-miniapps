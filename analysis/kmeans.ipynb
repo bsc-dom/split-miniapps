{
 "cells": [
  {
   "cell_type": "code",
   "execution_count": null,
   "id": "flexible-tennis",
   "metadata": {},
   "outputs": [],
   "source": [
    "import matplotlib.pyplot as plt\n",
    "import numpy as np\n",
    "import pandas as pd\n",
    "import seaborn as sns\n",
    "\n",
    "pd.set_option('display.max_rows', None)\n",
    "pd.set_option('display.max_columns', None)\n",
    "pd.set_option('display.width', None)\n",
    "pd.set_option('display.max_colwidth', None)\n",
    "\n",
    "from tad4bj import DataStorage\n",
    "\n",
    "EXPERIMENT_SIZE_FIELDS = [\n",
    "    \"number_of_fragments\", \n",
    "    \"points_per_fragment\", \n",
    "]\n",
    "\n",
    "PLATFORM_FIELDS = [\n",
    "    \"nodes\",\n",
    "    \"cpus_per_node\",\n",
    "    \"backends_per_node\",\n",
    "]"
   ]
  },
  {
   "cell_type": "code",
   "execution_count": null,
   "id": "breeding-advertiser",
   "metadata": {},
   "outputs": [],
   "source": [
    "def smart_mean(row):\n",
    "    it_times = row[\"iteration_time\"]\n",
    "    \n",
    "    if it_times:\n",
    "        it_times = it_times[1:]\n",
    "        count = len(it_times)\n",
    "        if count > 0:\n",
    "            #mean = sum(it_times) / count\n",
    "            #mean = min(it_times)\n",
    "            row[\"mean_time\"] = np.mean(it_times)\n",
    "            row[\"std_time\"] = np.std(it_times)\n",
    "\n",
    "    if not row['dataclay']:\n",
    "        row['mode'] = \"COMPSs\"\n",
    "    elif row['use_split']:\n",
    "        row['mode'] = \"dC+split\"\n",
    "    else:\n",
    "        row['mode'] = \"dC\"\n",
    "\n",
    "    return row\n",
    "\n",
    "db = DataStorage(\"kmeans-split\")\n",
    "df = db.to_dataframe().apply(smart_mean, axis=1).query(\"start_ts > '2021-02-09'\")"
   ]
  },
  {
   "cell_type": "code",
   "execution_count": null,
   "id": "permanent-mechanism",
   "metadata": {},
   "outputs": [],
   "source": [
    "byproduct = df.groupby(EXPERIMENT_SIZE_FIELDS + ['mode'] + PLATFORM_FIELDS).agg({\"mean_time\": [\"mean\"], \"std_time\": [\"mean\"]})\n",
    "# The \"condensed\" dataframe, containing the rellevant data properly condensed\n",
    "cdf = byproduct.reset_index()\n",
    "# Flatten columns\n",
    "cdf.columns = [col[0] for col in cdf.columns.values]\n",
    "cdf"
   ]
  },
  {
   "cell_type": "code",
   "execution_count": null,
   "id": "convertible-casting",
   "metadata": {},
   "outputs": [],
   "source": [
    "sns.barplot(data=cdf, x=\"number_of_fragments\", hue=\"mode\", y=\"mean_time\")"
   ]
  },
  {
   "cell_type": "code",
   "execution_count": null,
   "id": "noble-warehouse",
   "metadata": {},
   "outputs": [],
   "source": []
  }
 ],
 "metadata": {
  "language_info": {
   "name": "python",
   "pygments_lexer": "ipython3"
  }
 },
 "nbformat": 4,
 "nbformat_minor": 5
}
