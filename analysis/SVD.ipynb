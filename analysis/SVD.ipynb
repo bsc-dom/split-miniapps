{
 "cells": [
  {
   "cell_type": "markdown",
   "id": "ebfd303e",
   "metadata": {},
   "source": [
    "# SVD"
   ]
  },
  {
   "cell_type": "markdown",
   "id": "181763f8",
   "metadata": {},
   "source": [
    "## ComputingUnits (COMPSs-exclusive)"
   ]
  },
  {
   "cell_type": "code",
   "execution_count": 7,
   "id": "8982707d",
   "metadata": {},
   "outputs": [
    {
     "data": {
      "text/plain": [
       "<AxesSubplot:>"
      ]
     },
     "execution_count": 7,
     "metadata": {},
     "output_type": "execute_result"
    },
    {
     "data": {
      "image/png": "[encoded data removed]",
      "text/plain": [
       "<Figure size 432x288 with 1 Axes>"
      ]
     },
     "metadata": {
      "needs_background": "light"
     },
     "output_type": "display_data"
    }
   ],
   "source": [
    "import seaborn\n",
    "\n",
    "data = {\n",
    "    1: 297.690502,\n",
    "    4: 312.436940,\n",
    "    8: 305.687114,\n",
    "    24: 632.755799,\n",
    "}\n",
    "\n",
    "seaborn.barplot(x=list(data.keys()), y=list(data.values()))"
   ]
  },
  {
   "cell_type": "code",
   "execution_count": null,
   "id": "64a15e7e",
   "metadata": {},
   "outputs": [],
   "source": []
  }
 ],
 "metadata": {
  "kernelspec": {
   "display_name": "Python 3 (ipykernel)",
   "language": "python",
   "name": "python3"
  },
  "language_info": {
   "codemirror_mode": {
    "name": "ipython",
    "version": 3
   },
   "file_extension": ".py",
   "mimetype": "text/x-python",
   "name": "python",
   "nbconvert_exporter": "python",
   "pygments_lexer": "ipython3",
   "version": "3.8.10"
  }
 },
 "nbformat": 4,
 "nbformat_minor": 5
}
