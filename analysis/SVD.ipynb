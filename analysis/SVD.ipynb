{
 "cells": [
  {
   "cell_type": "markdown",
   "id": "ebfd303e",
   "metadata": {},
   "source": [
    "# SVD"
   ]
  },
  {
   "cell_type": "markdown",
   "id": "181763f8",
   "metadata": {},
   "source": [
    "## ComputingUnits (COMPSs-exclusive)"
   ]
  },
  {
   "cell_type": "code",
   "execution_count": null,
   "id": "8982707d",
   "metadata": {},
   "outputs": [],
   "source": [
    "import seaborn\n",
    "\n",
    "data = {\n",
    "    1: 297.690502,\n",
    "    4: 312.436940,\n",
    "    8: 305.687114,\n",
    "    24: 632.755799,\n",
    "}\n",
    "\n",
    "seaborn.barplot(x=list(data.keys()), y=list(data.values()))"
   ]
  },
  {
   "cell_type": "code",
   "execution_count": null,
   "id": "64a15e7e",
   "metadata": {},
   "outputs": [],
   "source": []
  }
 ],
 "metadata": {
  "language_info": {
   "name": "python",
   "pygments_lexer": "ipython3"
  }
 },
 "nbformat": 4,
 "nbformat_minor": 5
}
