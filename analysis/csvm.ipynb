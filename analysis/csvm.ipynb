{
 "cells": [
  {
   "cell_type": "code",
   "execution_count": null,
   "id": "flexible-tennis",
   "metadata": {},
   "outputs": [],
   "source": [
    "import matplotlib.pyplot as plt\n",
    "import numpy as np\n",
    "import pandas as pd\n",
    "import seaborn as sns\n",
    "\n",
    "pd.set_option('display.max_rows', None)\n",
    "pd.set_option('display.max_columns', None)\n",
    "pd.set_option('display.width', None)\n",
    "pd.set_option('display.max_colwidth', None)\n",
    "\n",
    "from tad4bj import DataStorage\n",
    "\n",
    "EXPERIMENT_SIZE_FIELDS = [\n",
    "    \"number_of_fragments\", \n",
    "    \"points_per_fragment\", \n",
    "]\n",
    "\n",
    "PLATFORM_FIELDS = [\n",
    "    \"nodes\",\n",
    "    \"cpus_per_node\",\n",
    "    \"backends_per_node\",\n",
    "]"
   ]
  },
  {
   "cell_type": "code",
   "execution_count": null,
   "id": "breeding-advertiser",
   "metadata": {},
   "outputs": [],
   "source": [
    "def smart_mean(row):\n",
    "    it_times = row[\"execution_time\"]\n",
    "    \n",
    "    if it_times:\n",
    "        count = len(it_times)\n",
    "        if count > 0:\n",
    "            mean_time = np.mean(it_times)\n",
    "            row[\"min_time\"] = np.min(it_times)\n",
    "            row[\"mean_time\"] = mean_time\n",
    "            row[\"std_time\"] = np.std(it_times)\n",
    "            row[\"count\"] = len(it_times)\n",
    "            \n",
    "        row[\"overhead_relative\"] = 100.0 * row[\"split_overhead_time\"] / mean_time\n",
    "            \n",
    "    if not row['dataclay']:\n",
    "        row['mode'] = \"COMPSs\"\n",
    "    elif row['use_split']:\n",
    "        row['mode'] = \"dC+split\"\n",
    "    else:\n",
    "        row['mode'] = \"dC\"\n",
    "\n",
    "    return row\n",
    "\n",
    "db = DataStorage(\"csvm-split\")\n",
    "df = db.to_dataframe().apply(smart_mean, axis=1)\n",
    "#df = db.to_dataframe().apply(smart_mean, axis=1).query(\"(start_ts > '2021-02-18 20') and (start_ts < '2021-02-20')\")"
   ]
  },
  {
   "cell_type": "code",
   "execution_count": null,
   "id": "permanent-mechanism",
   "metadata": {},
   "outputs": [],
   "source": [
    "byproduct = df.groupby(EXPERIMENT_SIZE_FIELDS + ['mode'] + PLATFORM_FIELDS).agg({\"overhead_relative\": [\"mean\"], \"split_overhead_time\": [\"mean\"], \"mean_time\": [\"mean\"], \"min_time\": [\"min\"], \"std_time\": [\"mean\"]})\n",
    "# The \"condensed\" dataframe, containing the rellevant data properly condensed\n",
    "cdf = byproduct.reset_index()\n",
    "# Flatten columns\n",
    "cdf.columns = [col[0] for col in cdf.columns.values]\n",
    "cdf"
   ]
  },
  {
   "cell_type": "code",
   "execution_count": null,
   "id": "noble-warehouse",
   "metadata": {},
   "outputs": [],
   "source": [
    "sns.barplot(data=cdf, x=\"number_of_fragments\", hue=\"mode\", y=\"mean_time\")"
   ]
  },
  {
   "cell_type": "code",
   "execution_count": null,
   "id": "turkish-mapping",
   "metadata": {},
   "outputs": [],
   "source": [
    "fig, axs = plt.subplots(ncols=2)\n",
    "\n",
    "sns.barplot(data=cdf, x=\"number_of_fragments\", hue=\"mode\", y=\"split_overhead_time\", ax=axs[0])\n",
    "sns.barplot(data=cdf, x=\"number_of_fragments\", hue=\"mode\", y=\"overhead_relative\", ax=axs[1], saturation=1 )\n",
    "axs[1].set(ylim=(0, 100))\n",
    "axs[0].legend().remove()"
   ]
  },
  {
   "cell_type": "code",
   "execution_count": null,
   "id": "conscious-champion",
   "metadata": {},
   "outputs": [],
   "source": [
    "sns.barplot(data=cdf.query(\"number_of_fragments < 1000\"), x=\"number_of_fragments\", hue=\"mode\", y=\"mean_time\")"
   ]
  },
  {
   "cell_type": "code",
   "execution_count": null,
   "id": "composite-hypothesis",
   "metadata": {},
   "outputs": [],
   "source": [
    "sns.barplot(data=cdf, x=\"number_of_fragments\", hue=\"mode\", y=\"min_time\")"
   ]
  },
  {
   "cell_type": "code",
   "execution_count": null,
   "id": "brazilian-crest",
   "metadata": {},
   "outputs": [],
   "source": [
    "sns.barplot(data=cdf.query(\"number_of_fragments < 1000\"), x=\"number_of_fragments\", hue=\"mode\", y=\"min_time\")"
   ]
  },
  {
   "cell_type": "code",
   "execution_count": null,
   "id": "legendary-polish",
   "metadata": {},
   "outputs": [],
   "source": []
  }
 ],
 "metadata": {
  "language_info": {
   "name": "python",
   "pygments_lexer": "ipython3"
  }
 },
 "nbformat": 4,
 "nbformat_minor": 5
}
